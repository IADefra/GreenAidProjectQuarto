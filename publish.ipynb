{
 "cells": [
  {
   "cell_type": "code",
   "execution_count": 2,
   "metadata": {},
   "outputs": [
    {
     "name": "stdout",
     "output_type": "stream",
     "text": [
      "Checking https://dap-prd2-connect.azure.defra.cloud/... [OK]\n",
      "Checking API key...                              [OK]\n",
      "Added Connect server \"IsaacServer\" with URL https://dap-prd2-connect.azure.defra.cloud/\n"
     ]
    }
   ],
   "source": [
    "\n",
    "!rsconnect add --api-key g3yQIUgwENe9Mf09HhnD1QGi2SrQcLI2 --server https://dap-prd2-connect.azure.defra.cloud/ --name IsaacServer\n"
   ]
  }
 ],
 "metadata": {
  "kernelspec": {
   "display_name": "Python 3",
   "language": "python",
   "name": "python3"
  },
  "language_info": {
   "codemirror_mode": {
    "name": "ipython",
    "version": 3
   },
   "file_extension": ".py",
   "mimetype": "text/x-python",
   "name": "python",
   "nbconvert_exporter": "python",
   "pygments_lexer": "ipython3",
   "version": "3.7.4"
  }
 },
 "nbformat": 4,
 "nbformat_minor": 2
}
